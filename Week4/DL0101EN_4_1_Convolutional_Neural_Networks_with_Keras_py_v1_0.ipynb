{
  "cells": [
    {
      "cell_type": "markdown",
      "metadata": {
        "id": "k7FnnS00d4Kf"
      },
      "source": [
        "<a href=\"https://cognitiveclass.ai/?utm_medium=Exinfluencer&utm_source=Exinfluencer&utm_content=000026UJ&utm_term=10006555&utm_id=NA-SkillsNetwork-Channel-SkillsNetworkCoursesIBMDeveloperSkillsNetworkDL0101ENSkillsNetwork945-2022-01-01\"><img src=\"https://cf-courses-data.s3.us.cloud-object-storage.appdomain.cloud/IBMDeveloperSkillsNetwork-DL0101EN-SkillsNetwork/images/IDSN-logo.png\" width=\"400\"> </a>\n",
        "\n",
        "<h1 align=center><font size = 5>Convolutional Neural Networks with Keras</font></h1>\n"
      ]
    },
    {
      "cell_type": "markdown",
      "metadata": {
        "id": "WwjpXVOhd4Kh"
      },
      "source": [
        "In this lab, we will learn how to use the Keras library to build convolutional neural networks. We will also use the popular MNIST dataset and we will compare our results to using a conventional neural network.\n"
      ]
    },
    {
      "cell_type": "markdown",
      "metadata": {
        "id": "_RsrYKovd4Ki"
      },
      "source": [
        "<h2>Convolutional Neural Networks with Keras</h2>\n",
        "\n",
        "<h3>Objective for this Notebook<h3>    \n",
        "<h5> 1. How to use the Keras library to build convolutional neural networks.</h5>\n",
        "<h5> 2. Convolutional Neural Network with One Convolutional and Pooling Layers.</h5>\n",
        "<h5> 3. Convolutional Neural Network with Two Convolutional and Pooling Layers.</h5>\n",
        "\n"
      ]
    },
    {
      "cell_type": "markdown",
      "metadata": {
        "id": "0DS0vyrJd4Ki"
      },
      "source": [
        "## Table of Contents\n",
        "\n",
        "<div class=\"alert alert-block alert-info\" style=\"margin-top: 20px\">\n",
        "\n",
        "<font size = 3>\n",
        "      \n",
        "1. <a href=\"#item41\">Import Keras and Packages</a>   \n",
        "2. <a href=\"#item42\">Convolutional Neural Network with One Convolutional and Pooling Layers</a>  \n",
        "3. <a href=\"#item43\">Convolutional Neural Network with Two Convolutional and Pooling Layers</a>  \n",
        "\n",
        "</font>\n",
        "</div>\n"
      ]
    },
    {
      "cell_type": "markdown",
      "metadata": {
        "id": "S1_rfja3d4Kj"
      },
      "source": [
        "<a id='item41'></a>\n"
      ]
    },
    {
      "cell_type": "markdown",
      "metadata": {
        "id": "4ijnnhW2d4Kk"
      },
      "source": [
        "## Import Keras and Packages\n"
      ]
    },
    {
      "cell_type": "markdown",
      "metadata": {
        "id": "8-1lxAY_d4Kl"
      },
      "source": [
        "Let's start by importing the keras libraries and the packages that we would need to build a neural network.\n"
      ]
    },
    {
      "cell_type": "code",
      "execution_count": null,
      "metadata": {
        "id": "P8D1Y1-6d4Kl"
      },
      "outputs": [],
      "source": [
        "# All Libraries required for this lab are listed below. The libraries pre-installed on Skills Network Labs are commented.\n",
        "# If you run this notebook on a different environment, e.g. your desktop, you may need to uncomment and install certain libraries.\n",
        "\n",
        "#!pip install numpy==1.21.4\n",
        "#!pip install pandas==1.3.4\n",
        "#!pip install keras==2.1.6"
      ]
    },
    {
      "cell_type": "code",
      "execution_count": 1,
      "metadata": {
        "tags": [],
        "id": "MRtn38xNd4Ko"
      },
      "outputs": [],
      "source": [
        "import keras\n",
        "from keras.models import Sequential\n",
        "from keras.layers import Dense\n",
        "from keras.utils import to_categorical"
      ]
    },
    {
      "cell_type": "markdown",
      "metadata": {
        "id": "NJSEaKhmd4Ks"
      },
      "source": [
        "When working with convolutional neural networks in particular, we will need additional packages.\n"
      ]
    },
    {
      "cell_type": "code",
      "execution_count": 2,
      "metadata": {
        "tags": [],
        "id": "prEm7m9td4Kt"
      },
      "outputs": [],
      "source": [
        "from keras.layers.convolutional import Conv2D # to add convolutional layers\n",
        "from keras.layers.convolutional import MaxPooling2D # to add pooling layers\n",
        "from keras.layers import Flatten # to flatten data for fully connected layers"
      ]
    },
    {
      "cell_type": "markdown",
      "metadata": {
        "id": "jGhEG6x5d4Ku"
      },
      "source": [
        "<a id='item42'></a>\n"
      ]
    },
    {
      "cell_type": "markdown",
      "metadata": {
        "id": "fcE9NJwLd4Ku"
      },
      "source": [
        "## Convolutional Layer with One set of convolutional and pooling layers\n"
      ]
    },
    {
      "cell_type": "code",
      "execution_count": 3,
      "metadata": {
        "tags": [],
        "colab": {
          "base_uri": "https://localhost:8080/"
        },
        "id": "Ra3pNw6td4Kv",
        "outputId": "85e9a8e4-be3d-45a6-9214-162c58fb9c6c"
      },
      "outputs": [
        {
          "output_type": "stream",
          "name": "stdout",
          "text": [
            "Downloading data from https://storage.googleapis.com/tensorflow/tf-keras-datasets/mnist.npz\n",
            "11490434/11490434 [==============================] - 1s 0us/step\n"
          ]
        }
      ],
      "source": [
        "# import data\n",
        "from keras.datasets import mnist\n",
        "\n",
        "# load data\n",
        "(X_train, y_train), (X_test, y_test) = mnist.load_data()\n",
        "\n",
        "# reshape to be [samples][pixels][width][height]\n",
        "X_train = X_train.reshape(X_train.shape[0], 28, 28, 1).astype('float32')\n",
        "X_test = X_test.reshape(X_test.shape[0], 28, 28, 1).astype('float32')"
      ]
    },
    {
      "cell_type": "markdown",
      "metadata": {
        "id": "YCgJnCq_d4Kw"
      },
      "source": [
        "Let's normalize the pixel values to be between 0 and 1\n"
      ]
    },
    {
      "cell_type": "code",
      "execution_count": 4,
      "metadata": {
        "tags": [],
        "id": "zDCVea1jd4Kx"
      },
      "outputs": [],
      "source": [
        "X_train = X_train / 255 # normalize training data\n",
        "X_test = X_test / 255 # normalize test data"
      ]
    },
    {
      "cell_type": "markdown",
      "metadata": {
        "id": "s26AYCi-d4Kx"
      },
      "source": [
        "Next, let's convert the target variable into binary categories\n"
      ]
    },
    {
      "cell_type": "code",
      "execution_count": 5,
      "metadata": {
        "tags": [],
        "id": "3WjIcRu1d4Kx"
      },
      "outputs": [],
      "source": [
        "y_train = to_categorical(y_train)\n",
        "y_test = to_categorical(y_test)\n",
        "\n",
        "num_classes = y_test.shape[1] # number of categories"
      ]
    },
    {
      "cell_type": "markdown",
      "metadata": {
        "id": "m03ojpMcd4Kx"
      },
      "source": [
        "Next, let's define a function that creates our model. Let's start with one set of convolutional and pooling layers.\n"
      ]
    },
    {
      "cell_type": "code",
      "execution_count": 7,
      "metadata": {
        "tags": [],
        "id": "5GAp243Gd4Kx"
      },
      "outputs": [],
      "source": [
        "def convolutional_model():\n",
        "    # create model\n",
        "    model = Sequential()\n",
        "    model.add(Conv2D(16, (5, 5), strides=(1, 1), activation='relu', input_shape=(28, 28, 1)))\n",
        "    model.add(MaxPooling2D(pool_size=(2, 2), strides=(2, 2)))\n",
        "    model.add(Flatten())\n",
        "    model.add(Dense(100, activation='relu'))\n",
        "    model.add(Dense(num_classes, activation='softmax'))\n",
        "    # compile model\n",
        "    model.compile(optimizer='adam', loss='categorical_crossentropy',  metrics=['accuracy'])\n",
        "    return model"
      ]
    },
    {
      "cell_type": "markdown",
      "metadata": {
        "id": "GdA2Amvsd4Ky"
      },
      "source": [
        "Finally, let's call the function to create the model, and then let's train it and evaluate it.\n"
      ]
    },
    {
      "cell_type": "code",
      "execution_count": 8,
      "metadata": {
        "tags": [],
        "colab": {
          "base_uri": "https://localhost:8080/"
        },
        "id": "oip0U5HMd4Ky",
        "outputId": "4eaa7a91-2a55-41db-a990-bebd8ca13959"
      },
      "outputs": [
        {
          "output_type": "stream",
          "name": "stdout",
          "text": [
            "Epoch 1/10\n",
            "300/300 - 11s - loss: 0.2798 - accuracy: 0.9226 - val_loss: 0.1096 - val_accuracy: 0.9706 - 11s/epoch - 37ms/step\n",
            "Epoch 2/10\n",
            "300/300 - 1s - loss: 0.0831 - accuracy: 0.9758 - val_loss: 0.0579 - val_accuracy: 0.9816 - 933ms/epoch - 3ms/step\n",
            "Epoch 3/10\n",
            "300/300 - 1s - loss: 0.0566 - accuracy: 0.9836 - val_loss: 0.0480 - val_accuracy: 0.9837 - 910ms/epoch - 3ms/step\n",
            "Epoch 4/10\n",
            "300/300 - 1s - loss: 0.0442 - accuracy: 0.9865 - val_loss: 0.0449 - val_accuracy: 0.9846 - 925ms/epoch - 3ms/step\n",
            "Epoch 5/10\n",
            "300/300 - 1s - loss: 0.0356 - accuracy: 0.9890 - val_loss: 0.0375 - val_accuracy: 0.9883 - 954ms/epoch - 3ms/step\n",
            "Epoch 6/10\n",
            "300/300 - 1s - loss: 0.0297 - accuracy: 0.9910 - val_loss: 0.0369 - val_accuracy: 0.9874 - 998ms/epoch - 3ms/step\n",
            "Epoch 7/10\n",
            "300/300 - 1s - loss: 0.0254 - accuracy: 0.9918 - val_loss: 0.0373 - val_accuracy: 0.9880 - 1s/epoch - 5ms/step\n",
            "Epoch 8/10\n",
            "300/300 - 1s - loss: 0.0211 - accuracy: 0.9933 - val_loss: 0.0350 - val_accuracy: 0.9890 - 1s/epoch - 4ms/step\n",
            "Epoch 9/10\n",
            "300/300 - 1s - loss: 0.0164 - accuracy: 0.9951 - val_loss: 0.0411 - val_accuracy: 0.9872 - 922ms/epoch - 3ms/step\n",
            "Epoch 10/10\n",
            "300/300 - 1s - loss: 0.0142 - accuracy: 0.9960 - val_loss: 0.0388 - val_accuracy: 0.9885 - 1s/epoch - 3ms/step\n",
            "Accuracy: 0.9884999990463257 \n",
            " Error: 1.1500000953674316\n"
          ]
        }
      ],
      "source": [
        "# build the model\n",
        "model = convolutional_model()\n",
        "\n",
        "# fit the model\n",
        "model.fit(X_train, y_train, validation_data=(X_test, y_test), epochs=10, batch_size=200, verbose=2)\n",
        "\n",
        "# evaluate the model\n",
        "scores = model.evaluate(X_test, y_test, verbose=0)\n",
        "print(\"Accuracy: {} \\n Error: {}\".format(scores[1], 100-scores[1]*100))"
      ]
    },
    {
      "cell_type": "markdown",
      "metadata": {
        "id": "LdrVJSVBd4Ky"
      },
      "source": [
        "------------------------------------------\n"
      ]
    },
    {
      "cell_type": "markdown",
      "metadata": {
        "id": "kX-jrlNgd4Kz"
      },
      "source": [
        "<a id='item43'></a>\n"
      ]
    },
    {
      "cell_type": "markdown",
      "metadata": {
        "id": "xUlav4x_d4Kz"
      },
      "source": [
        "## Convolutional Layer with two sets of convolutional and pooling layers\n"
      ]
    },
    {
      "cell_type": "markdown",
      "metadata": {
        "id": "hZf90q3yd4Kz"
      },
      "source": [
        "Let's redefine our convolutional model so that it has two convolutional and pooling layers instead of just one layer of each.\n"
      ]
    },
    {
      "cell_type": "code",
      "execution_count": 9,
      "metadata": {
        "id": "9R2XzEsPd4K0"
      },
      "outputs": [],
      "source": [
        "def convolutional_model():\n",
        "\n",
        "    # create model\n",
        "    model = Sequential()\n",
        "    model.add(Conv2D(16, (5, 5), activation='relu', input_shape=(28, 28, 1)))\n",
        "    model.add(MaxPooling2D(pool_size=(2, 2), strides=(2, 2)))\n",
        "\n",
        "    model.add(Conv2D(8, (2, 2), activation='relu'))\n",
        "    model.add(MaxPooling2D(pool_size=(2, 2), strides=(2, 2)))\n",
        "\n",
        "    model.add(Flatten())\n",
        "    model.add(Dense(100, activation='relu'))\n",
        "    model.add(Dense(num_classes, activation='softmax'))\n",
        "\n",
        "    # Compile model\n",
        "    model.compile(optimizer='adam', loss='categorical_crossentropy',  metrics=['accuracy'])\n",
        "    return model"
      ]
    },
    {
      "cell_type": "markdown",
      "metadata": {
        "id": "bbjB0GFrd4K1"
      },
      "source": [
        "Now, let's call the function to create our new convolutional neural network, and then let's train it and evaluate it.\n"
      ]
    },
    {
      "cell_type": "code",
      "execution_count": 10,
      "metadata": {
        "colab": {
          "base_uri": "https://localhost:8080/"
        },
        "id": "M2ILQts8d4K1",
        "outputId": "eb1fb73c-3f79-4417-d42a-6840f6b11dcb"
      },
      "outputs": [
        {
          "output_type": "stream",
          "name": "stdout",
          "text": [
            "Epoch 1/10\n",
            "300/300 - 3s - loss: 0.4763 - accuracy: 0.8693 - val_loss: 0.1431 - val_accuracy: 0.9565 - 3s/epoch - 9ms/step\n",
            "Epoch 2/10\n",
            "300/300 - 1s - loss: 0.1226 - accuracy: 0.9635 - val_loss: 0.0936 - val_accuracy: 0.9720 - 1s/epoch - 4ms/step\n",
            "Epoch 3/10\n",
            "300/300 - 1s - loss: 0.0880 - accuracy: 0.9730 - val_loss: 0.0730 - val_accuracy: 0.9786 - 1s/epoch - 4ms/step\n",
            "Epoch 4/10\n",
            "300/300 - 1s - loss: 0.0719 - accuracy: 0.9783 - val_loss: 0.0600 - val_accuracy: 0.9796 - 1s/epoch - 3ms/step\n",
            "Epoch 5/10\n",
            "300/300 - 1s - loss: 0.0597 - accuracy: 0.9822 - val_loss: 0.0548 - val_accuracy: 0.9827 - 1s/epoch - 4ms/step\n",
            "Epoch 6/10\n",
            "300/300 - 1s - loss: 0.0512 - accuracy: 0.9847 - val_loss: 0.0508 - val_accuracy: 0.9837 - 1s/epoch - 3ms/step\n",
            "Epoch 7/10\n",
            "300/300 - 1s - loss: 0.0453 - accuracy: 0.9864 - val_loss: 0.0435 - val_accuracy: 0.9863 - 1s/epoch - 5ms/step\n",
            "Epoch 8/10\n",
            "300/300 - 1s - loss: 0.0416 - accuracy: 0.9873 - val_loss: 0.0453 - val_accuracy: 0.9854 - 1s/epoch - 4ms/step\n",
            "Epoch 9/10\n",
            "300/300 - 1s - loss: 0.0370 - accuracy: 0.9886 - val_loss: 0.0395 - val_accuracy: 0.9877 - 1s/epoch - 3ms/step\n",
            "Epoch 10/10\n",
            "300/300 - 1s - loss: 0.0346 - accuracy: 0.9896 - val_loss: 0.0377 - val_accuracy: 0.9874 - 1s/epoch - 3ms/step\n",
            "Accuracy: 0.9873999953269958 \n",
            " Error: 1.260000467300415\n"
          ]
        }
      ],
      "source": [
        "# build the model\n",
        "model = convolutional_model()\n",
        "\n",
        "# fit the model\n",
        "model.fit(X_train, y_train, validation_data=(X_test, y_test), epochs=10, batch_size=200, verbose=2)\n",
        "\n",
        "# evaluate the model\n",
        "scores = model.evaluate(X_test, y_test, verbose=0)\n",
        "print(\"Accuracy: {} \\n Error: {}\".format(scores[1], 100-scores[1]*100))"
      ]
    },
    {
      "cell_type": "markdown",
      "metadata": {
        "id": "-ZewL0OCd4K3"
      },
      "source": [
        "### Thank you for completing this lab!\n",
        "\n",
        "This notebook was created by [Alex Aklson](https://www.linkedin.com/in/aklson/?utm_medium=Exinfluencer&utm_source=Exinfluencer&utm_content=000026UJ&utm_term=10006555&utm_id=NA-SkillsNetwork-Channel-SkillsNetworkCoursesIBMDeveloperSkillsNetworkDL0101ENSkillsNetwork945-2022-01-01). I hope you found this lab interesting and educational. Feel free to contact me if you have any questions!\n"
      ]
    },
    {
      "cell_type": "markdown",
      "metadata": {
        "id": "wObHUo0jd4K4"
      },
      "source": [
        "\n",
        "## Change Log\n",
        "\n",
        "|  Date (YYYY-MM-DD) |  Version | Changed By  |  Change Description |\n",
        "|---|---|---|---|\n",
        "| 2020-09-21  | 2.0  | Srishti  |  Migrated Lab to Markdown and added to course repo in GitLab |\n",
        "\n",
        "\n",
        "\n",
        "<hr>\n",
        "\n",
        "## <h3 align=\"center\"> © IBM Corporation 2020. All rights reserved. <h3/>\n"
      ]
    },
    {
      "cell_type": "markdown",
      "metadata": {
        "id": "Qe1NzrYxd4K4"
      },
      "source": [
        "This notebook is part of a course on **Coursera** called *Introduction to Deep Learning & Neural Networks with Keras*. If you accessed this notebook outside the course, you can take this course online by clicking [here](https://cocl.us/DL0101EN_Coursera_Week4_LAB1).\n"
      ]
    },
    {
      "cell_type": "markdown",
      "metadata": {
        "id": "S7D5E8XXd4K5"
      },
      "source": [
        "<hr>\n",
        "\n",
        "Copyright &copy; 2019 [IBM Developer Skills Network](https://cognitiveclass.ai/?utm_medium=dswb&utm_source=bducopyrightlink&utm_content=000026UJ&utm_term=10006555&utm_id=NA-SkillsNetwork-Channel-SkillsNetworkCoursesIBMDeveloperSkillsNetworkDL0101ENSkillsNetwork945-2022-01-01&utm_campaign=bdu). This notebook and its source code are released under the terms of the [MIT License](https://bigdatauniversity.com/mit-license/?utm_medium=Exinfluencer&utm_source=Exinfluencer&utm_content=000026UJ&utm_term=10006555&utm_id=NA-SkillsNetwork-Channel-SkillsNetworkCoursesIBMDeveloperSkillsNetworkDL0101ENSkillsNetwork945-2022-01-01).\n"
      ]
    }
  ],
  "metadata": {
    "kernelspec": {
      "display_name": "Python",
      "language": "python",
      "name": "conda-env-python-py"
    },
    "language_info": {
      "codemirror_mode": {
        "name": "ipython",
        "version": 3
      },
      "file_extension": ".py",
      "mimetype": "text/x-python",
      "name": "python",
      "nbconvert_exporter": "python",
      "pygments_lexer": "ipython3",
      "version": "3.7.12"
    },
    "colab": {
      "provenance": [],
      "gpuType": "T4"
    },
    "accelerator": "GPU"
  },
  "nbformat": 4,
  "nbformat_minor": 0
}