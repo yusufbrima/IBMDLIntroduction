{
 "cells": [
  {
   "cell_type": "markdown",
   "metadata": {},
   "source": [
    "<a href=\"https://cognitiveclass.ai/?utm_medium=Exinfluencer&utm_source=Exinfluencer&utm_content=000026UJ&utm_term=10006555&utm_id=NA-SkillsNetwork-Channel-SkillsNetworkCoursesIBMDeveloperSkillsNetworkDL0101ENSkillsNetwork945-2022-01-01\"><img src=\"https://cf-courses-data.s3.us.cloud-object-storage.appdomain.cloud/IBMDeveloperSkillsNetwork-DL0101EN-SkillsNetwork/images/IDSN-logo.png\" width=\"400\"> </a>\n",
    "\n",
    "<h1 align=center><font size = 5>Regression Models with Keras</font></h1>\n"
   ]
  },
  {
   "cell_type": "markdown",
   "metadata": {},
   "source": [
    "## Introduction\n"
   ]
  },
  {
   "cell_type": "markdown",
   "metadata": {},
   "source": [
    "As we discussed in the videos, despite the popularity of more powerful libraries such as PyToch and TensorFlow, they are not easy to use and have a steep learning curve. So, for people who are just starting to learn deep learning, there is no better library to use other than the Keras library. \n",
    "\n",
    "Keras is a high-level API for building deep learning models. It has gained favor for its ease of use and syntactic simplicity facilitating fast development. As you will see in this lab and the other labs in this course, building a very complex deep learning network can be achieved with Keras with only few lines of code. You will appreciate Keras even more, once you learn how to build deep models using PyTorch and TensorFlow in the other courses.\n",
    "\n",
    "So, in this lab, you will learn how to use the Keras library to build a regression model.\n"
   ]
  },
  {
   "cell_type": "markdown",
   "metadata": {},
   "source": [
    "<h2>Regression Models with Keras</h2>\n",
    "\n",
    "<h3>Objective for this Notebook<h3>    \n",
    "<h5> 1. How to use the Keras library to build a regression model.</h5>\n",
    "<h5> 2. Download and Clean dataset </h5>\n",
    "<h5> 3. Build a Neural Network </h5>\n",
    "<h5> 4. Train and Test the Network. </h5>     \n",
    "\n"
   ]
  },
  {
   "cell_type": "markdown",
   "metadata": {},
   "source": [
    "## Table of Contents\n",
    "\n",
    "<div class=\"alert alert-block alert-info\" style=\"margin-top: 20px\">\n",
    "\n",
    "<font size = 3>\n",
    "    \n",
    "1. <a href=\"#item31\">Download and Clean Dataset</a>  \n",
    "2. <a href=\"#item32\">Import Keras</a>  \n",
    "3. <a href=\"#item33\">Build a Neural Network</a>  \n",
    "4. <a href=\"#item34\">Train and Test the Network</a>  \n",
    "\n",
    "</font>\n",
    "</div>\n"
   ]
  },
  {
   "cell_type": "markdown",
   "metadata": {},
   "source": [
    "<a id=\"item31\"></a>\n"
   ]
  },
  {
   "cell_type": "markdown",
   "metadata": {},
   "source": [
    "## Download and Clean Dataset\n"
   ]
  },
  {
   "cell_type": "markdown",
   "metadata": {},
   "source": [
    "Let's start by importing the <em>pandas</em> and the Numpy libraries.\n"
   ]
  },
  {
   "cell_type": "code",
   "execution_count": null,
   "metadata": {},
   "outputs": [],
   "source": [
    "# All Libraries required for this lab are listed below. The libraries pre-installed on Skills Network Labs are commented. \n",
    "# If you run this notebook on a different environment, e.g. your desktop, you may need to uncomment and install certain libraries.\n",
    "\n",
    "#!pip install numpy==1.21.4\n",
    "#!pip install pandas==1.3.4\n",
    "#!pip install keras==2.1.6"
   ]
  },
  {
   "cell_type": "code",
   "execution_count": 22,
   "metadata": {
    "tags": []
   },
   "outputs": [],
   "source": [
    "import pandas as pd\n",
    "import numpy as np\n",
    "import matplotlib.pyplot as plt"
   ]
  },
  {
   "cell_type": "markdown",
   "metadata": {},
   "source": [
    "We will be playing around with the same dataset that we used in the videos.\n",
    "\n",
    "<strong>The dataset is about the compressive strength of different samples of concrete based on the volumes of the different ingredients that were used to make them. Ingredients include:</strong>\n",
    "\n",
    "<strong>1. Cement</strong>\n",
    "\n",
    "<strong>2. Blast Furnace Slag</strong>\n",
    "\n",
    "<strong>3. Fly Ash</strong>\n",
    "\n",
    "<strong>4. Water</strong>\n",
    "\n",
    "<strong>5. Superplasticizer</strong>\n",
    "\n",
    "<strong>6. Coarse Aggregate</strong>\n",
    "\n",
    "<strong>7. Fine Aggregate</strong>\n"
   ]
  },
  {
   "cell_type": "markdown",
   "metadata": {},
   "source": [
    "Let's download the data and read it into a <em>pandas</em> dataframe.\n"
   ]
  },
  {
   "cell_type": "code",
   "execution_count": 2,
   "metadata": {
    "tags": []
   },
   "outputs": [
    {
     "data": {
      "text/html": [
       "<div>\n",
       "<style scoped>\n",
       "    .dataframe tbody tr th:only-of-type {\n",
       "        vertical-align: middle;\n",
       "    }\n",
       "\n",
       "    .dataframe tbody tr th {\n",
       "        vertical-align: top;\n",
       "    }\n",
       "\n",
       "    .dataframe thead th {\n",
       "        text-align: right;\n",
       "    }\n",
       "</style>\n",
       "<table border=\"1\" class=\"dataframe\">\n",
       "  <thead>\n",
       "    <tr style=\"text-align: right;\">\n",
       "      <th></th>\n",
       "      <th>Cement</th>\n",
       "      <th>Blast Furnace Slag</th>\n",
       "      <th>Fly Ash</th>\n",
       "      <th>Water</th>\n",
       "      <th>Superplasticizer</th>\n",
       "      <th>Coarse Aggregate</th>\n",
       "      <th>Fine Aggregate</th>\n",
       "      <th>Age</th>\n",
       "      <th>Strength</th>\n",
       "    </tr>\n",
       "  </thead>\n",
       "  <tbody>\n",
       "    <tr>\n",
       "      <th>0</th>\n",
       "      <td>540.0</td>\n",
       "      <td>0.0</td>\n",
       "      <td>0.0</td>\n",
       "      <td>162.0</td>\n",
       "      <td>2.5</td>\n",
       "      <td>1040.0</td>\n",
       "      <td>676.0</td>\n",
       "      <td>28</td>\n",
       "      <td>79.99</td>\n",
       "    </tr>\n",
       "    <tr>\n",
       "      <th>1</th>\n",
       "      <td>540.0</td>\n",
       "      <td>0.0</td>\n",
       "      <td>0.0</td>\n",
       "      <td>162.0</td>\n",
       "      <td>2.5</td>\n",
       "      <td>1055.0</td>\n",
       "      <td>676.0</td>\n",
       "      <td>28</td>\n",
       "      <td>61.89</td>\n",
       "    </tr>\n",
       "    <tr>\n",
       "      <th>2</th>\n",
       "      <td>332.5</td>\n",
       "      <td>142.5</td>\n",
       "      <td>0.0</td>\n",
       "      <td>228.0</td>\n",
       "      <td>0.0</td>\n",
       "      <td>932.0</td>\n",
       "      <td>594.0</td>\n",
       "      <td>270</td>\n",
       "      <td>40.27</td>\n",
       "    </tr>\n",
       "    <tr>\n",
       "      <th>3</th>\n",
       "      <td>332.5</td>\n",
       "      <td>142.5</td>\n",
       "      <td>0.0</td>\n",
       "      <td>228.0</td>\n",
       "      <td>0.0</td>\n",
       "      <td>932.0</td>\n",
       "      <td>594.0</td>\n",
       "      <td>365</td>\n",
       "      <td>41.05</td>\n",
       "    </tr>\n",
       "    <tr>\n",
       "      <th>4</th>\n",
       "      <td>198.6</td>\n",
       "      <td>132.4</td>\n",
       "      <td>0.0</td>\n",
       "      <td>192.0</td>\n",
       "      <td>0.0</td>\n",
       "      <td>978.4</td>\n",
       "      <td>825.5</td>\n",
       "      <td>360</td>\n",
       "      <td>44.30</td>\n",
       "    </tr>\n",
       "  </tbody>\n",
       "</table>\n",
       "</div>"
      ],
      "text/plain": [
       "   Cement  Blast Furnace Slag  Fly Ash  Water  Superplasticizer  \\\n",
       "0   540.0                 0.0      0.0  162.0               2.5   \n",
       "1   540.0                 0.0      0.0  162.0               2.5   \n",
       "2   332.5               142.5      0.0  228.0               0.0   \n",
       "3   332.5               142.5      0.0  228.0               0.0   \n",
       "4   198.6               132.4      0.0  192.0               0.0   \n",
       "\n",
       "   Coarse Aggregate  Fine Aggregate  Age  Strength  \n",
       "0            1040.0           676.0   28     79.99  \n",
       "1            1055.0           676.0   28     61.89  \n",
       "2             932.0           594.0  270     40.27  \n",
       "3             932.0           594.0  365     41.05  \n",
       "4             978.4           825.5  360     44.30  "
      ]
     },
     "execution_count": 2,
     "metadata": {},
     "output_type": "execute_result"
    }
   ],
   "source": [
    "concrete_data = pd.read_csv('https://s3-api.us-geo.objectstorage.softlayer.net/cf-courses-data/CognitiveClass/DL0101EN/labs/data/concrete_data.csv')\n",
    "concrete_data.head()"
   ]
  },
  {
   "cell_type": "markdown",
   "metadata": {},
   "source": [
    "So the first concrete sample has 540 cubic meter of cement, 0 cubic meter of blast furnace slag, 0 cubic meter of fly ash, 162 cubic meter of water, 2.5 cubic meter of superplaticizer, 1040 cubic meter of coarse aggregate, 676 cubic meter of fine aggregate. Such a concrete mix which is 28 days old, has a compressive strength of 79.99 MPa. \n"
   ]
  },
  {
   "cell_type": "markdown",
   "metadata": {},
   "source": [
    "#### Let's check how many data points we have.\n"
   ]
  },
  {
   "cell_type": "code",
   "execution_count": 3,
   "metadata": {
    "tags": []
   },
   "outputs": [
    {
     "data": {
      "text/plain": [
       "(1030, 9)"
      ]
     },
     "execution_count": 3,
     "metadata": {},
     "output_type": "execute_result"
    }
   ],
   "source": [
    "concrete_data.shape"
   ]
  },
  {
   "cell_type": "markdown",
   "metadata": {},
   "source": [
    "So, there are approximately 1000 samples to train our model on. Because of the few samples, we have to be careful not to overfit the training data.\n"
   ]
  },
  {
   "cell_type": "markdown",
   "metadata": {},
   "source": [
    "Let's check the dataset for any missing values.\n"
   ]
  },
  {
   "cell_type": "code",
   "execution_count": 4,
   "metadata": {
    "tags": []
   },
   "outputs": [
    {
     "data": {
      "text/html": [
       "<div>\n",
       "<style scoped>\n",
       "    .dataframe tbody tr th:only-of-type {\n",
       "        vertical-align: middle;\n",
       "    }\n",
       "\n",
       "    .dataframe tbody tr th {\n",
       "        vertical-align: top;\n",
       "    }\n",
       "\n",
       "    .dataframe thead th {\n",
       "        text-align: right;\n",
       "    }\n",
       "</style>\n",
       "<table border=\"1\" class=\"dataframe\">\n",
       "  <thead>\n",
       "    <tr style=\"text-align: right;\">\n",
       "      <th></th>\n",
       "      <th>Cement</th>\n",
       "      <th>Blast Furnace Slag</th>\n",
       "      <th>Fly Ash</th>\n",
       "      <th>Water</th>\n",
       "      <th>Superplasticizer</th>\n",
       "      <th>Coarse Aggregate</th>\n",
       "      <th>Fine Aggregate</th>\n",
       "      <th>Age</th>\n",
       "      <th>Strength</th>\n",
       "    </tr>\n",
       "  </thead>\n",
       "  <tbody>\n",
       "    <tr>\n",
       "      <th>count</th>\n",
       "      <td>1030.000000</td>\n",
       "      <td>1030.000000</td>\n",
       "      <td>1030.000000</td>\n",
       "      <td>1030.000000</td>\n",
       "      <td>1030.000000</td>\n",
       "      <td>1030.000000</td>\n",
       "      <td>1030.000000</td>\n",
       "      <td>1030.000000</td>\n",
       "      <td>1030.000000</td>\n",
       "    </tr>\n",
       "    <tr>\n",
       "      <th>mean</th>\n",
       "      <td>281.167864</td>\n",
       "      <td>73.895825</td>\n",
       "      <td>54.188350</td>\n",
       "      <td>181.567282</td>\n",
       "      <td>6.204660</td>\n",
       "      <td>972.918932</td>\n",
       "      <td>773.580485</td>\n",
       "      <td>45.662136</td>\n",
       "      <td>35.817961</td>\n",
       "    </tr>\n",
       "    <tr>\n",
       "      <th>std</th>\n",
       "      <td>104.506364</td>\n",
       "      <td>86.279342</td>\n",
       "      <td>63.997004</td>\n",
       "      <td>21.354219</td>\n",
       "      <td>5.973841</td>\n",
       "      <td>77.753954</td>\n",
       "      <td>80.175980</td>\n",
       "      <td>63.169912</td>\n",
       "      <td>16.705742</td>\n",
       "    </tr>\n",
       "    <tr>\n",
       "      <th>min</th>\n",
       "      <td>102.000000</td>\n",
       "      <td>0.000000</td>\n",
       "      <td>0.000000</td>\n",
       "      <td>121.800000</td>\n",
       "      <td>0.000000</td>\n",
       "      <td>801.000000</td>\n",
       "      <td>594.000000</td>\n",
       "      <td>1.000000</td>\n",
       "      <td>2.330000</td>\n",
       "    </tr>\n",
       "    <tr>\n",
       "      <th>25%</th>\n",
       "      <td>192.375000</td>\n",
       "      <td>0.000000</td>\n",
       "      <td>0.000000</td>\n",
       "      <td>164.900000</td>\n",
       "      <td>0.000000</td>\n",
       "      <td>932.000000</td>\n",
       "      <td>730.950000</td>\n",
       "      <td>7.000000</td>\n",
       "      <td>23.710000</td>\n",
       "    </tr>\n",
       "    <tr>\n",
       "      <th>50%</th>\n",
       "      <td>272.900000</td>\n",
       "      <td>22.000000</td>\n",
       "      <td>0.000000</td>\n",
       "      <td>185.000000</td>\n",
       "      <td>6.400000</td>\n",
       "      <td>968.000000</td>\n",
       "      <td>779.500000</td>\n",
       "      <td>28.000000</td>\n",
       "      <td>34.445000</td>\n",
       "    </tr>\n",
       "    <tr>\n",
       "      <th>75%</th>\n",
       "      <td>350.000000</td>\n",
       "      <td>142.950000</td>\n",
       "      <td>118.300000</td>\n",
       "      <td>192.000000</td>\n",
       "      <td>10.200000</td>\n",
       "      <td>1029.400000</td>\n",
       "      <td>824.000000</td>\n",
       "      <td>56.000000</td>\n",
       "      <td>46.135000</td>\n",
       "    </tr>\n",
       "    <tr>\n",
       "      <th>max</th>\n",
       "      <td>540.000000</td>\n",
       "      <td>359.400000</td>\n",
       "      <td>200.100000</td>\n",
       "      <td>247.000000</td>\n",
       "      <td>32.200000</td>\n",
       "      <td>1145.000000</td>\n",
       "      <td>992.600000</td>\n",
       "      <td>365.000000</td>\n",
       "      <td>82.600000</td>\n",
       "    </tr>\n",
       "  </tbody>\n",
       "</table>\n",
       "</div>"
      ],
      "text/plain": [
       "            Cement  Blast Furnace Slag      Fly Ash        Water  \\\n",
       "count  1030.000000         1030.000000  1030.000000  1030.000000   \n",
       "mean    281.167864           73.895825    54.188350   181.567282   \n",
       "std     104.506364           86.279342    63.997004    21.354219   \n",
       "min     102.000000            0.000000     0.000000   121.800000   \n",
       "25%     192.375000            0.000000     0.000000   164.900000   \n",
       "50%     272.900000           22.000000     0.000000   185.000000   \n",
       "75%     350.000000          142.950000   118.300000   192.000000   \n",
       "max     540.000000          359.400000   200.100000   247.000000   \n",
       "\n",
       "       Superplasticizer  Coarse Aggregate  Fine Aggregate          Age  \\\n",
       "count       1030.000000       1030.000000     1030.000000  1030.000000   \n",
       "mean           6.204660        972.918932      773.580485    45.662136   \n",
       "std            5.973841         77.753954       80.175980    63.169912   \n",
       "min            0.000000        801.000000      594.000000     1.000000   \n",
       "25%            0.000000        932.000000      730.950000     7.000000   \n",
       "50%            6.400000        968.000000      779.500000    28.000000   \n",
       "75%           10.200000       1029.400000      824.000000    56.000000   \n",
       "max           32.200000       1145.000000      992.600000   365.000000   \n",
       "\n",
       "          Strength  \n",
       "count  1030.000000  \n",
       "mean     35.817961  \n",
       "std      16.705742  \n",
       "min       2.330000  \n",
       "25%      23.710000  \n",
       "50%      34.445000  \n",
       "75%      46.135000  \n",
       "max      82.600000  "
      ]
     },
     "execution_count": 4,
     "metadata": {},
     "output_type": "execute_result"
    }
   ],
   "source": [
    "concrete_data.describe()"
   ]
  },
  {
   "cell_type": "code",
   "execution_count": 5,
   "metadata": {
    "tags": []
   },
   "outputs": [
    {
     "data": {
      "text/plain": [
       "Cement                0\n",
       "Blast Furnace Slag    0\n",
       "Fly Ash               0\n",
       "Water                 0\n",
       "Superplasticizer      0\n",
       "Coarse Aggregate      0\n",
       "Fine Aggregate        0\n",
       "Age                   0\n",
       "Strength              0\n",
       "dtype: int64"
      ]
     },
     "execution_count": 5,
     "metadata": {},
     "output_type": "execute_result"
    }
   ],
   "source": [
    "concrete_data.isnull().sum()"
   ]
  },
  {
   "cell_type": "markdown",
   "metadata": {},
   "source": [
    "The data looks very clean and is ready to be used to build our model.\n"
   ]
  },
  {
   "cell_type": "markdown",
   "metadata": {},
   "source": [
    "#### Split data into predictors and target\n"
   ]
  },
  {
   "cell_type": "markdown",
   "metadata": {},
   "source": [
    "The target variable in this problem is the concrete sample strength. Therefore, our predictors will be all the other columns.\n"
   ]
  },
  {
   "cell_type": "code",
   "execution_count": 7,
   "metadata": {
    "tags": []
   },
   "outputs": [],
   "source": [
    "concrete_data_columns = concrete_data.columns\n",
    "\n",
    "predictors = concrete_data[concrete_data_columns[concrete_data_columns != 'Strength']] # all columns except Strength\n",
    "target = concrete_data['Strength'] # Strength column"
   ]
  },
  {
   "cell_type": "markdown",
   "metadata": {},
   "source": [
    "<a id=\"item2\"></a>\n"
   ]
  },
  {
   "cell_type": "markdown",
   "metadata": {},
   "source": [
    "Let's do a quick sanity check of the predictors and the target dataframes.\n"
   ]
  },
  {
   "cell_type": "code",
   "execution_count": 8,
   "metadata": {
    "tags": []
   },
   "outputs": [
    {
     "data": {
      "text/html": [
       "<div>\n",
       "<style scoped>\n",
       "    .dataframe tbody tr th:only-of-type {\n",
       "        vertical-align: middle;\n",
       "    }\n",
       "\n",
       "    .dataframe tbody tr th {\n",
       "        vertical-align: top;\n",
       "    }\n",
       "\n",
       "    .dataframe thead th {\n",
       "        text-align: right;\n",
       "    }\n",
       "</style>\n",
       "<table border=\"1\" class=\"dataframe\">\n",
       "  <thead>\n",
       "    <tr style=\"text-align: right;\">\n",
       "      <th></th>\n",
       "      <th>Cement</th>\n",
       "      <th>Blast Furnace Slag</th>\n",
       "      <th>Fly Ash</th>\n",
       "      <th>Water</th>\n",
       "      <th>Superplasticizer</th>\n",
       "      <th>Coarse Aggregate</th>\n",
       "      <th>Fine Aggregate</th>\n",
       "      <th>Age</th>\n",
       "    </tr>\n",
       "  </thead>\n",
       "  <tbody>\n",
       "    <tr>\n",
       "      <th>0</th>\n",
       "      <td>540.0</td>\n",
       "      <td>0.0</td>\n",
       "      <td>0.0</td>\n",
       "      <td>162.0</td>\n",
       "      <td>2.5</td>\n",
       "      <td>1040.0</td>\n",
       "      <td>676.0</td>\n",
       "      <td>28</td>\n",
       "    </tr>\n",
       "    <tr>\n",
       "      <th>1</th>\n",
       "      <td>540.0</td>\n",
       "      <td>0.0</td>\n",
       "      <td>0.0</td>\n",
       "      <td>162.0</td>\n",
       "      <td>2.5</td>\n",
       "      <td>1055.0</td>\n",
       "      <td>676.0</td>\n",
       "      <td>28</td>\n",
       "    </tr>\n",
       "    <tr>\n",
       "      <th>2</th>\n",
       "      <td>332.5</td>\n",
       "      <td>142.5</td>\n",
       "      <td>0.0</td>\n",
       "      <td>228.0</td>\n",
       "      <td>0.0</td>\n",
       "      <td>932.0</td>\n",
       "      <td>594.0</td>\n",
       "      <td>270</td>\n",
       "    </tr>\n",
       "    <tr>\n",
       "      <th>3</th>\n",
       "      <td>332.5</td>\n",
       "      <td>142.5</td>\n",
       "      <td>0.0</td>\n",
       "      <td>228.0</td>\n",
       "      <td>0.0</td>\n",
       "      <td>932.0</td>\n",
       "      <td>594.0</td>\n",
       "      <td>365</td>\n",
       "    </tr>\n",
       "    <tr>\n",
       "      <th>4</th>\n",
       "      <td>198.6</td>\n",
       "      <td>132.4</td>\n",
       "      <td>0.0</td>\n",
       "      <td>192.0</td>\n",
       "      <td>0.0</td>\n",
       "      <td>978.4</td>\n",
       "      <td>825.5</td>\n",
       "      <td>360</td>\n",
       "    </tr>\n",
       "  </tbody>\n",
       "</table>\n",
       "</div>"
      ],
      "text/plain": [
       "   Cement  Blast Furnace Slag  Fly Ash  Water  Superplasticizer  \\\n",
       "0   540.0                 0.0      0.0  162.0               2.5   \n",
       "1   540.0                 0.0      0.0  162.0               2.5   \n",
       "2   332.5               142.5      0.0  228.0               0.0   \n",
       "3   332.5               142.5      0.0  228.0               0.0   \n",
       "4   198.6               132.4      0.0  192.0               0.0   \n",
       "\n",
       "   Coarse Aggregate  Fine Aggregate  Age  \n",
       "0            1040.0           676.0   28  \n",
       "1            1055.0           676.0   28  \n",
       "2             932.0           594.0  270  \n",
       "3             932.0           594.0  365  \n",
       "4             978.4           825.5  360  "
      ]
     },
     "execution_count": 8,
     "metadata": {},
     "output_type": "execute_result"
    }
   ],
   "source": [
    "predictors.head()"
   ]
  },
  {
   "cell_type": "code",
   "execution_count": 9,
   "metadata": {
    "tags": []
   },
   "outputs": [
    {
     "data": {
      "text/plain": [
       "0    79.99\n",
       "1    61.89\n",
       "2    40.27\n",
       "3    41.05\n",
       "4    44.30\n",
       "Name: Strength, dtype: float64"
      ]
     },
     "execution_count": 9,
     "metadata": {},
     "output_type": "execute_result"
    }
   ],
   "source": [
    "target.head()"
   ]
  },
  {
   "cell_type": "markdown",
   "metadata": {},
   "source": [
    "Finally, the last step is to normalize the data by substracting the mean and dividing by the standard deviation.\n"
   ]
  },
  {
   "cell_type": "code",
   "execution_count": 10,
   "metadata": {
    "tags": []
   },
   "outputs": [
    {
     "data": {
      "text/html": [
       "<div>\n",
       "<style scoped>\n",
       "    .dataframe tbody tr th:only-of-type {\n",
       "        vertical-align: middle;\n",
       "    }\n",
       "\n",
       "    .dataframe tbody tr th {\n",
       "        vertical-align: top;\n",
       "    }\n",
       "\n",
       "    .dataframe thead th {\n",
       "        text-align: right;\n",
       "    }\n",
       "</style>\n",
       "<table border=\"1\" class=\"dataframe\">\n",
       "  <thead>\n",
       "    <tr style=\"text-align: right;\">\n",
       "      <th></th>\n",
       "      <th>Cement</th>\n",
       "      <th>Blast Furnace Slag</th>\n",
       "      <th>Fly Ash</th>\n",
       "      <th>Water</th>\n",
       "      <th>Superplasticizer</th>\n",
       "      <th>Coarse Aggregate</th>\n",
       "      <th>Fine Aggregate</th>\n",
       "      <th>Age</th>\n",
       "    </tr>\n",
       "  </thead>\n",
       "  <tbody>\n",
       "    <tr>\n",
       "      <th>0</th>\n",
       "      <td>2.476712</td>\n",
       "      <td>-0.856472</td>\n",
       "      <td>-0.846733</td>\n",
       "      <td>-0.916319</td>\n",
       "      <td>-0.620147</td>\n",
       "      <td>0.862735</td>\n",
       "      <td>-1.217079</td>\n",
       "      <td>-0.279597</td>\n",
       "    </tr>\n",
       "    <tr>\n",
       "      <th>1</th>\n",
       "      <td>2.476712</td>\n",
       "      <td>-0.856472</td>\n",
       "      <td>-0.846733</td>\n",
       "      <td>-0.916319</td>\n",
       "      <td>-0.620147</td>\n",
       "      <td>1.055651</td>\n",
       "      <td>-1.217079</td>\n",
       "      <td>-0.279597</td>\n",
       "    </tr>\n",
       "    <tr>\n",
       "      <th>2</th>\n",
       "      <td>0.491187</td>\n",
       "      <td>0.795140</td>\n",
       "      <td>-0.846733</td>\n",
       "      <td>2.174405</td>\n",
       "      <td>-1.038638</td>\n",
       "      <td>-0.526262</td>\n",
       "      <td>-2.239829</td>\n",
       "      <td>3.551340</td>\n",
       "    </tr>\n",
       "    <tr>\n",
       "      <th>3</th>\n",
       "      <td>0.491187</td>\n",
       "      <td>0.795140</td>\n",
       "      <td>-0.846733</td>\n",
       "      <td>2.174405</td>\n",
       "      <td>-1.038638</td>\n",
       "      <td>-0.526262</td>\n",
       "      <td>-2.239829</td>\n",
       "      <td>5.055221</td>\n",
       "    </tr>\n",
       "    <tr>\n",
       "      <th>4</th>\n",
       "      <td>-0.790075</td>\n",
       "      <td>0.678079</td>\n",
       "      <td>-0.846733</td>\n",
       "      <td>0.488555</td>\n",
       "      <td>-1.038638</td>\n",
       "      <td>0.070492</td>\n",
       "      <td>0.647569</td>\n",
       "      <td>4.976069</td>\n",
       "    </tr>\n",
       "  </tbody>\n",
       "</table>\n",
       "</div>"
      ],
      "text/plain": [
       "     Cement  Blast Furnace Slag   Fly Ash     Water  Superplasticizer  \\\n",
       "0  2.476712           -0.856472 -0.846733 -0.916319         -0.620147   \n",
       "1  2.476712           -0.856472 -0.846733 -0.916319         -0.620147   \n",
       "2  0.491187            0.795140 -0.846733  2.174405         -1.038638   \n",
       "3  0.491187            0.795140 -0.846733  2.174405         -1.038638   \n",
       "4 -0.790075            0.678079 -0.846733  0.488555         -1.038638   \n",
       "\n",
       "   Coarse Aggregate  Fine Aggregate       Age  \n",
       "0          0.862735       -1.217079 -0.279597  \n",
       "1          1.055651       -1.217079 -0.279597  \n",
       "2         -0.526262       -2.239829  3.551340  \n",
       "3         -0.526262       -2.239829  5.055221  \n",
       "4          0.070492        0.647569  4.976069  "
      ]
     },
     "execution_count": 10,
     "metadata": {},
     "output_type": "execute_result"
    }
   ],
   "source": [
    "predictors_norm = (predictors - predictors.mean()) / predictors.std()\n",
    "predictors_norm.head()"
   ]
  },
  {
   "cell_type": "markdown",
   "metadata": {},
   "source": [
    "Let's save the number of predictors to *n_cols* since we will need this number when building our network.\n"
   ]
  },
  {
   "cell_type": "code",
   "execution_count": 11,
   "metadata": {
    "tags": []
   },
   "outputs": [],
   "source": [
    "n_cols = predictors_norm.shape[1] # number of predictors"
   ]
  },
  {
   "cell_type": "markdown",
   "metadata": {},
   "source": [
    "<a id=\"item1\"></a>\n"
   ]
  },
  {
   "cell_type": "markdown",
   "metadata": {},
   "source": [
    "<a id='item32'></a>\n"
   ]
  },
  {
   "cell_type": "markdown",
   "metadata": {},
   "source": [
    "## Import Keras\n"
   ]
  },
  {
   "cell_type": "markdown",
   "metadata": {},
   "source": [
    "Recall from the videos that Keras normally runs on top of a low-level library such as TensorFlow. This means that to be able to use the Keras library, you will have to install TensorFlow first and when you import the Keras library, it will be explicitly displayed what backend was used to install the Keras library. In CC Labs, we used TensorFlow as the backend to install Keras, so it should clearly print that when we import Keras.\n"
   ]
  },
  {
   "cell_type": "markdown",
   "metadata": {},
   "source": [
    "#### Let's go ahead and import the Keras library\n"
   ]
  },
  {
   "cell_type": "code",
   "execution_count": 13,
   "metadata": {
    "tags": []
   },
   "outputs": [],
   "source": [
    "import keras"
   ]
  },
  {
   "cell_type": "markdown",
   "metadata": {},
   "source": [
    "As you can see, the TensorFlow backend was used to install the Keras library.\n"
   ]
  },
  {
   "cell_type": "markdown",
   "metadata": {},
   "source": [
    "Let's import the rest of the packages from the Keras library that we will need to build our regressoin model.\n"
   ]
  },
  {
   "cell_type": "code",
   "execution_count": 14,
   "metadata": {
    "tags": []
   },
   "outputs": [],
   "source": [
    "from keras.models import Sequential\n",
    "from keras.layers import Dense"
   ]
  },
  {
   "cell_type": "markdown",
   "metadata": {},
   "source": [
    "<a id='item33'></a>\n"
   ]
  },
  {
   "cell_type": "markdown",
   "metadata": {},
   "source": [
    "## Build a Neural Network\n"
   ]
  },
  {
   "cell_type": "markdown",
   "metadata": {},
   "source": [
    "Let's define a function that defines our regression model for us so that we can conveniently call it to create our model.\n"
   ]
  },
  {
   "cell_type": "code",
   "execution_count": 15,
   "metadata": {
    "tags": []
   },
   "outputs": [],
   "source": [
    "# define regression model\n",
    "def regression_model():\n",
    "    # create model\n",
    "    model = Sequential()\n",
    "    model.add(Dense(50, activation='relu', input_shape=(n_cols,)))\n",
    "    model.add(Dense(50, activation='relu'))\n",
    "    model.add(Dense(1))\n",
    "    # compile model\n",
    "    model.compile(optimizer='adam', loss='mean_squared_error')\n",
    "    return model"
   ]
  },
  {
   "cell_type": "markdown",
   "metadata": {},
   "source": [
    "The above function create a model that has two hidden layers, each of 50 hidden units.\n"
   ]
  },
  {
   "cell_type": "markdown",
   "metadata": {},
   "source": [
    "<a id=\"item4\"></a>\n"
   ]
  },
  {
   "cell_type": "markdown",
   "metadata": {},
   "source": [
    "<a id='item34'></a>\n"
   ]
  },
  {
   "cell_type": "markdown",
   "metadata": {},
   "source": [
    "## Train and Test the Network\n"
   ]
  },
  {
   "cell_type": "markdown",
   "metadata": {},
   "source": [
    "Let's call the function now to create our model.\n"
   ]
  },
  {
   "cell_type": "code",
   "execution_count": 18,
   "metadata": {
    "tags": []
   },
   "outputs": [
    {
     "name": "stdout",
     "output_type": "stream",
     "text": [
      "_________________________________________________________________\n",
      "Layer (type)                 Output Shape              Param #   \n",
      "=================================================================\n",
      "dense_7 (Dense)              (None, 50)                450       \n",
      "_________________________________________________________________\n",
      "dense_8 (Dense)              (None, 50)                2550      \n",
      "_________________________________________________________________\n",
      "dense_9 (Dense)              (None, 1)                 51        \n",
      "=================================================================\n",
      "Total params: 3,051\n",
      "Trainable params: 3,051\n",
      "Non-trainable params: 0\n",
      "_________________________________________________________________\n"
     ]
    }
   ],
   "source": [
    "# build the model\n",
    "model = regression_model()\n",
    "model.summary()"
   ]
  },
  {
   "cell_type": "markdown",
   "metadata": {},
   "source": [
    "Next, we will train and test the model at the same time using the *fit* method. We will leave out 30% of the data for validation and we will train the model for 100 epochs.\n"
   ]
  },
  {
   "cell_type": "code",
   "execution_count": 19,
   "metadata": {
    "tags": []
   },
   "outputs": [
    {
     "name": "stdout",
     "output_type": "stream",
     "text": [
      "WARNING:tensorflow:From /home/jupyterlab/conda/envs/python/lib/python3.7/site-packages/keras/backend/tensorflow_backend.py:977: The name tf.assign_add is deprecated. Please use tf.compat.v1.assign_add instead.\n",
      "\n",
      "WARNING:tensorflow:From /home/jupyterlab/conda/envs/python/lib/python3.7/site-packages/keras/backend/tensorflow_backend.py:964: The name tf.assign is deprecated. Please use tf.compat.v1.assign instead.\n",
      "\n",
      "Train on 721 samples, validate on 309 samples\n",
      "Epoch 1/100\n"
     ]
    },
    {
     "name": "stderr",
     "output_type": "stream",
     "text": [
      "2023-08-20 10:32:27.235332: I tensorflow/core/platform/cpu_feature_guard.cc:142] Your CPU supports instructions that this TensorFlow binary was not compiled to use: SSE4.1 SSE4.2 AVX AVX2 AVX512F FMA\n",
      "2023-08-20 10:32:27.240396: I tensorflow/core/platform/profile_utils/cpu_utils.cc:94] CPU Frequency: 2394315000 Hz\n",
      "2023-08-20 10:32:27.241102: I tensorflow/compiler/xla/service/service.cc:168] XLA service 0x558bfdc548d0 executing computations on platform Host. Devices:\n",
      "2023-08-20 10:32:27.241154: I tensorflow/compiler/xla/service/service.cc:175]   StreamExecutor device (0): <undefined>, <undefined>\n",
      "2023-08-20 10:32:27.402221: W tensorflow/compiler/jit/mark_for_compilation_pass.cc:1412] (One-time warning): Not using XLA:CPU for cluster because envvar TF_XLA_FLAGS=--tf_xla_cpu_global_jit was not set.  If you want XLA:CPU, either set that envvar, or use experimental_jit_scope to enable XLA:CPU.  To confirm that XLA is active, pass --vmodule=xla_compilation_cache=1 (as a proper command-line flag, not via TF_XLA_FLAGS) or set the envvar XLA_FLAGS=--xla_hlo_profile.\n"
     ]
    },
    {
     "name": "stdout",
     "output_type": "stream",
     "text": [
      " - 0s - loss: 1651.1348 - val_loss: 1156.2167\n",
      "Epoch 2/100\n",
      " - 0s - loss: 1541.7922 - val_loss: 1049.1368\n",
      "Epoch 3/100\n",
      " - 0s - loss: 1344.9691 - val_loss: 869.0754\n",
      "Epoch 4/100\n",
      " - 0s - loss: 1027.2221 - val_loss: 634.2191\n",
      "Epoch 5/100\n",
      " - 0s - loss: 652.7196 - val_loss: 407.0851\n",
      "Epoch 6/100\n",
      " - 0s - loss: 354.3500 - val_loss: 272.2922\n",
      "Epoch 7/100\n",
      " - 0s - loss: 243.7377 - val_loss: 230.1285\n",
      "Epoch 8/100\n",
      " - 0s - loss: 220.5298 - val_loss: 220.5652\n",
      "Epoch 9/100\n",
      " - 0s - loss: 206.4762 - val_loss: 214.2714\n",
      "Epoch 10/100\n",
      " - 0s - loss: 196.1401 - val_loss: 206.3654\n",
      "Epoch 11/100\n",
      " - 0s - loss: 189.3451 - val_loss: 200.4830\n",
      "Epoch 12/100\n",
      " - 0s - loss: 182.3390 - val_loss: 197.3755\n",
      "Epoch 13/100\n",
      " - 0s - loss: 176.8273 - val_loss: 193.1179\n",
      "Epoch 14/100\n",
      " - 0s - loss: 172.1329 - val_loss: 187.4146\n",
      "Epoch 15/100\n",
      " - 0s - loss: 167.8425 - val_loss: 183.5724\n",
      "Epoch 16/100\n",
      " - 0s - loss: 164.5687 - val_loss: 181.9788\n",
      "Epoch 17/100\n",
      " - 0s - loss: 161.4657 - val_loss: 179.9884\n",
      "Epoch 18/100\n",
      " - 0s - loss: 159.1909 - val_loss: 176.0769\n",
      "Epoch 19/100\n",
      " - 0s - loss: 156.5204 - val_loss: 176.5879\n",
      "Epoch 20/100\n",
      " - 0s - loss: 154.3029 - val_loss: 173.1090\n",
      "Epoch 21/100\n",
      " - 0s - loss: 152.0146 - val_loss: 170.8687\n",
      "Epoch 22/100\n",
      " - 0s - loss: 149.6522 - val_loss: 169.9789\n",
      "Epoch 23/100\n",
      " - 0s - loss: 147.6592 - val_loss: 169.1874\n",
      "Epoch 24/100\n",
      " - 0s - loss: 146.0143 - val_loss: 167.6166\n",
      "Epoch 25/100\n",
      " - 0s - loss: 144.3695 - val_loss: 166.2854\n",
      "Epoch 26/100\n",
      " - 0s - loss: 142.0741 - val_loss: 163.5659\n",
      "Epoch 27/100\n",
      " - 0s - loss: 140.5239 - val_loss: 166.3653\n",
      "Epoch 28/100\n",
      " - 0s - loss: 138.8949 - val_loss: 167.3266\n",
      "Epoch 29/100\n",
      " - 0s - loss: 137.1528 - val_loss: 163.6693\n",
      "Epoch 30/100\n",
      " - 0s - loss: 135.3133 - val_loss: 164.7963\n",
      "Epoch 31/100\n",
      " - 0s - loss: 133.8095 - val_loss: 162.6770\n",
      "Epoch 32/100\n",
      " - 0s - loss: 132.5008 - val_loss: 166.2459\n",
      "Epoch 33/100\n",
      " - 0s - loss: 131.3437 - val_loss: 160.1920\n",
      "Epoch 34/100\n",
      " - 0s - loss: 129.1587 - val_loss: 163.1855\n",
      "Epoch 35/100\n",
      " - 0s - loss: 127.8152 - val_loss: 163.3526\n",
      "Epoch 36/100\n",
      " - 0s - loss: 125.8386 - val_loss: 160.8436\n",
      "Epoch 37/100\n",
      " - 0s - loss: 124.5882 - val_loss: 159.6513\n",
      "Epoch 38/100\n",
      " - 0s - loss: 122.5948 - val_loss: 161.0487\n",
      "Epoch 39/100\n",
      " - 0s - loss: 120.4466 - val_loss: 160.2154\n",
      "Epoch 40/100\n",
      " - 0s - loss: 118.7138 - val_loss: 156.9955\n",
      "Epoch 41/100\n",
      " - 0s - loss: 116.6414 - val_loss: 158.1760\n",
      "Epoch 42/100\n",
      " - 0s - loss: 114.7826 - val_loss: 156.0271\n",
      "Epoch 43/100\n",
      " - 0s - loss: 113.4109 - val_loss: 156.2607\n",
      "Epoch 44/100\n",
      " - 0s - loss: 110.8080 - val_loss: 150.2520\n",
      "Epoch 45/100\n",
      " - 0s - loss: 109.1147 - val_loss: 151.0248\n",
      "Epoch 46/100\n",
      " - 0s - loss: 106.8871 - val_loss: 147.2071\n",
      "Epoch 47/100\n",
      " - 0s - loss: 103.4646 - val_loss: 145.6077\n",
      "Epoch 48/100\n",
      " - 0s - loss: 100.0110 - val_loss: 143.6872\n",
      "Epoch 49/100\n",
      " - 0s - loss: 97.3696 - val_loss: 142.2106\n",
      "Epoch 50/100\n",
      " - 0s - loss: 94.4912 - val_loss: 141.5859\n",
      "Epoch 51/100\n",
      " - 0s - loss: 92.9997 - val_loss: 141.0154\n",
      "Epoch 52/100\n",
      " - 0s - loss: 89.4717 - val_loss: 137.0656\n",
      "Epoch 53/100\n",
      " - 0s - loss: 87.2871 - val_loss: 136.4635\n",
      "Epoch 54/100\n",
      " - 0s - loss: 84.0540 - val_loss: 135.3880\n",
      "Epoch 55/100\n",
      " - 0s - loss: 81.3379 - val_loss: 138.6643\n",
      "Epoch 56/100\n",
      " - 0s - loss: 78.9832 - val_loss: 131.1702\n",
      "Epoch 57/100\n",
      " - 0s - loss: 76.6937 - val_loss: 135.0048\n",
      "Epoch 58/100\n",
      " - 0s - loss: 74.2511 - val_loss: 134.9696\n",
      "Epoch 59/100\n",
      " - 0s - loss: 71.9095 - val_loss: 130.4513\n",
      "Epoch 60/100\n",
      " - 0s - loss: 70.1837 - val_loss: 133.5005\n",
      "Epoch 61/100\n",
      " - 0s - loss: 69.2810 - val_loss: 116.9688\n",
      "Epoch 62/100\n",
      " - 0s - loss: 67.3915 - val_loss: 126.9508\n",
      "Epoch 63/100\n",
      " - 0s - loss: 64.1281 - val_loss: 129.1821\n",
      "Epoch 64/100\n",
      " - 0s - loss: 63.1158 - val_loss: 118.5090\n",
      "Epoch 65/100\n",
      " - 0s - loss: 60.3236 - val_loss: 125.5135\n",
      "Epoch 66/100\n",
      " - 0s - loss: 58.5360 - val_loss: 126.4367\n",
      "Epoch 67/100\n",
      " - 0s - loss: 57.2508 - val_loss: 124.5597\n",
      "Epoch 68/100\n",
      " - 0s - loss: 55.6788 - val_loss: 132.9637\n",
      "Epoch 69/100\n",
      " - 0s - loss: 54.7000 - val_loss: 121.3565\n",
      "Epoch 70/100\n",
      " - 0s - loss: 52.9252 - val_loss: 119.8029\n",
      "Epoch 71/100\n",
      " - 0s - loss: 51.8423 - val_loss: 117.3845\n",
      "Epoch 72/100\n",
      " - 0s - loss: 50.5861 - val_loss: 120.6589\n",
      "Epoch 73/100\n",
      " - 0s - loss: 49.6022 - val_loss: 119.6473\n",
      "Epoch 74/100\n",
      " - 0s - loss: 48.3803 - val_loss: 132.8310\n",
      "Epoch 75/100\n",
      " - 0s - loss: 48.2914 - val_loss: 119.6331\n",
      "Epoch 76/100\n",
      " - 0s - loss: 46.7598 - val_loss: 119.5983\n",
      "Epoch 77/100\n",
      " - 0s - loss: 46.0873 - val_loss: 120.4537\n",
      "Epoch 78/100\n",
      " - 0s - loss: 45.0214 - val_loss: 127.3495\n",
      "Epoch 79/100\n",
      " - 0s - loss: 44.0407 - val_loss: 116.6732\n",
      "Epoch 80/100\n",
      " - 0s - loss: 43.7315 - val_loss: 112.4379\n",
      "Epoch 81/100\n",
      " - 0s - loss: 42.5441 - val_loss: 127.6378\n",
      "Epoch 82/100\n",
      " - 0s - loss: 41.8896 - val_loss: 124.4253\n",
      "Epoch 83/100\n",
      " - 0s - loss: 41.2825 - val_loss: 117.3265\n",
      "Epoch 84/100\n",
      " - 0s - loss: 41.5310 - val_loss: 104.3327\n",
      "Epoch 85/100\n",
      " - 0s - loss: 41.4272 - val_loss: 127.3543\n",
      "Epoch 86/100\n",
      " - 0s - loss: 40.4734 - val_loss: 125.4727\n",
      "Epoch 87/100\n",
      " - 0s - loss: 39.2654 - val_loss: 116.8514\n",
      "Epoch 88/100\n",
      " - 0s - loss: 38.2713 - val_loss: 115.8132\n",
      "Epoch 89/100\n",
      " - 0s - loss: 37.8922 - val_loss: 124.1889\n",
      "Epoch 90/100\n",
      " - 0s - loss: 37.4484 - val_loss: 120.4421\n",
      "Epoch 91/100\n",
      " - 0s - loss: 37.7467 - val_loss: 134.8880\n",
      "Epoch 92/100\n",
      " - 0s - loss: 37.9204 - val_loss: 116.6192\n",
      "Epoch 93/100\n",
      " - 0s - loss: 36.5726 - val_loss: 119.7568\n",
      "Epoch 94/100\n",
      " - 0s - loss: 35.8251 - val_loss: 115.6680\n",
      "Epoch 95/100\n",
      " - 0s - loss: 35.7136 - val_loss: 121.8101\n",
      "Epoch 96/100\n",
      " - 0s - loss: 34.7700 - val_loss: 119.0776\n",
      "Epoch 97/100\n",
      " - 0s - loss: 34.5570 - val_loss: 120.6476\n",
      "Epoch 98/100\n",
      " - 0s - loss: 34.1598 - val_loss: 123.4431\n",
      "Epoch 99/100\n",
      " - 0s - loss: 33.8931 - val_loss: 121.8780\n",
      "Epoch 100/100\n",
      " - 0s - loss: 34.2903 - val_loss: 124.8877\n"
     ]
    }
   ],
   "source": [
    "# fit the model\n",
    "history =  model.fit(predictors_norm, target, validation_split=0.3, epochs=100, verbose=2)"
   ]
  },
  {
   "cell_type": "code",
   "execution_count": 24,
   "metadata": {
    "tags": []
   },
   "outputs": [
    {
     "data": {
      "text/plain": [
       "{'val_loss': [1156.216721420535,\n",
       "  1049.1367768222847,\n",
       "  869.075356887768,\n",
       "  634.2191478149019,\n",
       "  407.08509920484425,\n",
       "  272.2922200323309,\n",
       "  230.1284550046458,\n",
       "  220.56519897855986,\n",
       "  214.27135894676627,\n",
       "  206.36539298739635,\n",
       "  200.4829935117061,\n",
       "  197.3755243295219,\n",
       "  193.11792194650397,\n",
       "  187.41459245897806,\n",
       "  183.57239727526422,\n",
       "  181.97880480127426,\n",
       "  179.98843566499482,\n",
       "  176.07694093772122,\n",
       "  176.58786904541805,\n",
       "  173.10902622062412,\n",
       "  170.86871357643102,\n",
       "  169.97890252665795,\n",
       "  169.1874315082834,\n",
       "  167.6165553219496,\n",
       "  166.2854312044903,\n",
       "  163.56590675921888,\n",
       "  166.36525220161116,\n",
       "  167.326595121217,\n",
       "  163.66930609150612,\n",
       "  164.79634123866998,\n",
       "  162.67695306574257,\n",
       "  166.24590289168373,\n",
       "  160.1919517640543,\n",
       "  163.18550786385643,\n",
       "  163.35256335804763,\n",
       "  160.8436208681767,\n",
       "  159.65133785507055,\n",
       "  161.04872027647147,\n",
       "  160.21539928843674,\n",
       "  156.9955142123028,\n",
       "  158.17599788529972,\n",
       "  156.02708598016534,\n",
       "  156.26068258439838,\n",
       "  150.25200635792754,\n",
       "  151.02479597665732,\n",
       "  147.20711524741162,\n",
       "  145.60770060715166,\n",
       "  143.6871829480415,\n",
       "  142.2106362500237,\n",
       "  141.58592636454065,\n",
       "  141.01543130226506,\n",
       "  137.06561116338935,\n",
       "  136.46348181665908,\n",
       "  135.38795276135687,\n",
       "  138.66434315801826,\n",
       "  131.17015702824762,\n",
       "  135.00480604943334,\n",
       "  134.96960323296705,\n",
       "  130.4512501195025,\n",
       "  133.5005049967843,\n",
       "  116.96877748063467,\n",
       "  126.95084768745892,\n",
       "  129.18214939944568,\n",
       "  118.50900653728003,\n",
       "  125.513464696199,\n",
       "  126.4367421221193,\n",
       "  124.55972067823687,\n",
       "  132.96371687114433,\n",
       "  121.35649847135575,\n",
       "  119.8029284184033,\n",
       "  117.38451652156496,\n",
       "  120.6588890050993,\n",
       "  119.64731973197468,\n",
       "  132.83100797289012,\n",
       "  119.63311770047184,\n",
       "  119.59834410534708,\n",
       "  120.45366046498123,\n",
       "  127.3494538983095,\n",
       "  116.673151849543,\n",
       "  112.43786635908108,\n",
       "  127.6377936551486,\n",
       "  124.4253430906623,\n",
       "  117.32654959175579,\n",
       "  104.33270634030833,\n",
       "  127.3543166126634,\n",
       "  125.47266570649872,\n",
       "  116.85143233117162,\n",
       "  115.81315375763236,\n",
       "  124.18886413080406,\n",
       "  120.44211237638899,\n",
       "  134.88801117930984,\n",
       "  116.61922652358761,\n",
       "  119.75681003706354,\n",
       "  115.6679643550737,\n",
       "  121.81010795025378,\n",
       "  119.07758279448574,\n",
       "  120.64755565063082,\n",
       "  123.44306311252433,\n",
       "  121.87801724035764,\n",
       "  124.88766785655592],\n",
       " 'loss': [1651.134836395306,\n",
       "  1541.7922378518876,\n",
       "  1344.9690889525182,\n",
       "  1027.222133853399,\n",
       "  652.7195754983719,\n",
       "  354.3500419965895,\n",
       "  243.73766920536798,\n",
       "  220.52984783156734,\n",
       "  206.4762486895642,\n",
       "  196.1401110370017,\n",
       "  189.3451341689873,\n",
       "  182.33904108690322,\n",
       "  176.82734614569338,\n",
       "  172.13294047489245,\n",
       "  167.84252531816162,\n",
       "  164.56868457132833,\n",
       "  161.46568029565057,\n",
       "  159.19088133495822,\n",
       "  156.52038326607334,\n",
       "  154.30292698282145,\n",
       "  152.01460189925152,\n",
       "  149.65220492888093,\n",
       "  147.6591552226454,\n",
       "  146.0142725972296,\n",
       "  144.3694703079626,\n",
       "  142.07412265772297,\n",
       "  140.52390859659437,\n",
       "  138.8949074288843,\n",
       "  137.152759483221,\n",
       "  135.31326726736208,\n",
       "  133.80950967944776,\n",
       "  132.5008022398294,\n",
       "  131.34370894306412,\n",
       "  129.1587052788384,\n",
       "  127.81524903698205,\n",
       "  125.83857036066783,\n",
       "  124.58819544100398,\n",
       "  122.59481142760977,\n",
       "  120.44659709533607,\n",
       "  118.71380442752917,\n",
       "  116.64141058425797,\n",
       "  114.78264301527555,\n",
       "  113.4109235067804,\n",
       "  110.80797646743414,\n",
       "  109.11471593594915,\n",
       "  106.8871423454126,\n",
       "  103.46464142819218,\n",
       "  100.01104558555825,\n",
       "  97.36956590290043,\n",
       "  94.49122496881365,\n",
       "  92.99965716929442,\n",
       "  89.47171244839524,\n",
       "  87.28713341658721,\n",
       "  84.0539552527228,\n",
       "  81.3378818104568,\n",
       "  78.9831527942758,\n",
       "  76.69367269867833,\n",
       "  74.25113573219839,\n",
       "  71.9095240366773,\n",
       "  70.18373577736948,\n",
       "  69.28096335274833,\n",
       "  67.391473069105,\n",
       "  64.12808972489653,\n",
       "  63.11580773299345,\n",
       "  60.32359453113995,\n",
       "  58.53599676907311,\n",
       "  57.25082369948558,\n",
       "  55.6788474200668,\n",
       "  54.700022746389024,\n",
       "  52.9251856493057,\n",
       "  51.84234135557643,\n",
       "  50.586058268765306,\n",
       "  49.60224399222746,\n",
       "  48.38026688532095,\n",
       "  48.29140108402162,\n",
       "  46.75977861930858,\n",
       "  46.0873405890392,\n",
       "  45.02143619659043,\n",
       "  44.04065684769587,\n",
       "  43.73147012390476,\n",
       "  42.54408146703458,\n",
       "  41.88957961951479,\n",
       "  41.28249888215085,\n",
       "  41.53097557459393,\n",
       "  41.42722452827697,\n",
       "  40.473437334396635,\n",
       "  39.26536236259048,\n",
       "  38.271322607498064,\n",
       "  37.8921798092317,\n",
       "  37.44840581208757,\n",
       "  37.7466985170785,\n",
       "  37.92041280167113,\n",
       "  36.57257624770335,\n",
       "  35.82508847452235,\n",
       "  35.71356549573837,\n",
       "  34.770031832458244,\n",
       "  34.55701068767066,\n",
       "  34.15978279060861,\n",
       "  33.893111656178384,\n",
       "  34.290298506886224]}"
      ]
     },
     "execution_count": 24,
     "metadata": {},
     "output_type": "execute_result"
    }
   ],
   "source": [
    "history.history"
   ]
  },
  {
   "cell_type": "code",
   "execution_count": 25,
   "metadata": {
    "tags": []
   },
   "outputs": [],
   "source": [
    "epochs = np.arange(0,100)"
   ]
  },
  {
   "cell_type": "code",
   "execution_count": 29,
   "metadata": {
    "tags": []
   },
   "outputs": [
    {
     "data": {
      "image/png": "[encoded data removed]",
      "text/plain": [
       "<Figure size 800x600 with 1 Axes>"
      ]
     },
     "metadata": {},
     "output_type": "display_data"
    }
   ],
   "source": [
    "plt.figure(1, figsize=(8,6))\n",
    "plt.plot(epochs, history.history['loss'], marker='o')\n",
    "plt.plot(epochs, history.history['val_loss'], marker='d')\n",
    "plt.legend(['Train loss','Validation loss'])\n",
    "plt.xlabel(\"Epoch\")\n",
    "plt.ylabel(\"Loss\")\n",
    "plt.show()"
   ]
  },
  {
   "cell_type": "markdown",
   "metadata": {},
   "source": [
    "<strong>You can refer to this [link](https://keras.io/models/sequential/?utm_medium=Exinfluencer&utm_source=Exinfluencer&utm_content=000026UJ&utm_term=10006555&utm_id=NA-SkillsNetwork-Channel-SkillsNetworkCoursesIBMDeveloperSkillsNetworkDL0101ENSkillsNetwork945-2022-01-01) to learn about other functions that you can use for prediction or evaluation.</strong>\n"
   ]
  },
  {
   "cell_type": "markdown",
   "metadata": {},
   "source": [
    "Feel free to vary the following and note what impact each change has on the model's performance:\n",
    "\n",
    "1. Increase or decreate number of neurons in hidden layers\n",
    "2. Add more hidden layers\n",
    "3. Increase number of epochs\n"
   ]
  },
  {
   "cell_type": "markdown",
   "metadata": {},
   "source": [
    "### Thank you for completing this lab!\n",
    "\n",
    "This notebook was created by [Alex Aklson](https://www.linkedin.com/in/aklson/?utm_medium=Exinfluencer&utm_source=Exinfluencer&utm_content=000026UJ&utm_term=10006555&utm_id=NA-SkillsNetwork-Channel-SkillsNetworkCoursesIBMDeveloperSkillsNetworkDL0101ENSkillsNetwork945-2022-01-01). I hope you found this lab interesting and educational. Feel free to contact me if you have any questions!\n"
   ]
  },
  {
   "cell_type": "markdown",
   "metadata": {},
   "source": [
    "\n",
    "## Change Log\n",
    "\n",
    "|  Date (YYYY-MM-DD) |  Version | Changed By  |  Change Description |\n",
    "|---|---|---|---|\n",
    "| 2020-09-21  | 2.0  | Srishti  |  Migrated Lab to Markdown and added to course repo in GitLab |\n",
    "\n",
    "\n",
    "\n",
    "<hr>\n",
    "\n",
    "## <h3 align=\"center\"> © IBM Corporation 2020. All rights reserved. <h3/>\n"
   ]
  },
  {
   "cell_type": "markdown",
   "metadata": {},
   "source": [
    "This notebook is part of a course on **Coursera** called *Introduction to Deep Learning & Neural Networks with Keras*. If you accessed this notebook outside the course, you can take this course online by clicking [here](https://cocl.us/DL0101EN_Coursera_Week3_LAB1).\n"
   ]
  },
  {
   "cell_type": "markdown",
   "metadata": {},
   "source": [
    "<hr>\n",
    "\n",
    "Copyright &copy; 2019 [IBM Developer Skills Network](https://cognitiveclass.ai/?utm_medium=dswb&utm_source=bducopyrightlink&utm_content=000026UJ&utm_term=10006555&utm_id=NA-SkillsNetwork-Channel-SkillsNetworkCoursesIBMDeveloperSkillsNetworkDL0101ENSkillsNetwork945-2022-01-01&utm_campaign=bdu). This notebook and its source code are released under the terms of the [MIT License](https://bigdatauniversity.com/mit-license/?utm_medium=Exinfluencer&utm_source=Exinfluencer&utm_content=000026UJ&utm_term=10006555&utm_id=NA-SkillsNetwork-Channel-SkillsNetworkCoursesIBMDeveloperSkillsNetworkDL0101ENSkillsNetwork945-2022-01-01).\n"
   ]
  }
 ],
 "metadata": {
  "kernelspec": {
   "display_name": "Python",
   "language": "python",
   "name": "conda-env-python-py"
  },
  "language_info": {
   "codemirror_mode": {
    "name": "ipython",
    "version": 3
   },
   "file_extension": ".py",
   "mimetype": "text/x-python",
   "name": "python",
   "nbconvert_exporter": "python",
   "pygments_lexer": "ipython3",
   "version": "3.7.12"
  }
 },
 "nbformat": 4,
 "nbformat_minor": 4
}
